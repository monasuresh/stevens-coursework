{
 "cells": [
  {
   "cell_type": "code",
   "execution_count": 12,
   "id": "6f901b31",
   "metadata": {},
   "outputs": [],
   "source": [
    "# Load libraries\n",
    "import pandas as pd\n",
    "from sklearn.tree import DecisionTreeClassifier\n",
    "from sklearn.model_selection import train_test_split\n",
    "from sklearn import metrics\n",
    "from sklearn.preprocessing import OneHotEncoder\n",
    "from sklearn.preprocessing import OrdinalEncoder\n",
    "from sklearn.tree import export_graphviz\n",
    "import graphviz\n",
    "import pydotplus\n",
    "from IPython.display import Image\n",
    "from sklearn.model_selection import GridSearchCV\n",
    "from sklearn.neural_network import MLPClassifier\n",
    "from sklearn.metrics import accuracy_score\n",
    "from sklearn.ensemble import RandomForestClassifier\n",
    "import numpy as np \n",
    "import matplotlib.pyplot as plt"
   ]
  },
  {
   "cell_type": "markdown",
   "id": "8686e0b1",
   "metadata": {},
   "source": [
    "# Step 1\n",
    "\n",
    "In this step, I am replacing the numeric values 1 and 0 in the \"survived\" column with labels yes and no for better readability and interpretation. I am also selecting the numeric columns \"age\" and \"fare\" and calculating their mean values. I am filling any missing values in these columns with their respective mean values. For each column in the list of categorical features, I am calculating the mode and replacing missing values with the mode value. I am also converting categorical values in the \"sex\" and \"pclass\" columns to numeric values. I am creating a mapping dictionary, where \"female\" is mapped to 0, \"male\" is mapped to 1, and \"1st,\" \"2nd,\" and \"3rd\" classes are mapped to 1, 2, and 3, respectively. All of this is done to preprocess the data. Finally, the dataset is split into training and testing set with 80% of the data in the training set and 20% of the data in the testing set."
   ]
  },
  {
   "cell_type": "code",
   "execution_count": 13,
   "id": "7718b141",
   "metadata": {},
   "outputs": [
    {
     "data": {
      "text/html": [
       "<div>\n",
       "<style scoped>\n",
       "    .dataframe tbody tr th:only-of-type {\n",
       "        vertical-align: middle;\n",
       "    }\n",
       "\n",
       "    .dataframe tbody tr th {\n",
       "        vertical-align: top;\n",
       "    }\n",
       "\n",
       "    .dataframe thead th {\n",
       "        text-align: right;\n",
       "    }\n",
       "</style>\n",
       "<table border=\"1\" class=\"dataframe\">\n",
       "  <thead>\n",
       "    <tr style=\"text-align: right;\">\n",
       "      <th></th>\n",
       "      <th>Unnamed: 0</th>\n",
       "      <th>pclass</th>\n",
       "      <th>survived</th>\n",
       "      <th>name</th>\n",
       "      <th>sex</th>\n",
       "      <th>age</th>\n",
       "      <th>sibsp</th>\n",
       "      <th>parch</th>\n",
       "      <th>ticket</th>\n",
       "      <th>fare</th>\n",
       "      <th>cabin</th>\n",
       "      <th>embarked</th>\n",
       "      <th>boat</th>\n",
       "      <th>body</th>\n",
       "      <th>home.dest</th>\n",
       "    </tr>\n",
       "  </thead>\n",
       "  <tbody>\n",
       "    <tr>\n",
       "      <th>0</th>\n",
       "      <td>1</td>\n",
       "      <td>1st</td>\n",
       "      <td>1</td>\n",
       "      <td>Allen, Miss. Elisabeth Walton</td>\n",
       "      <td>female</td>\n",
       "      <td>29.0000</td>\n",
       "      <td>0</td>\n",
       "      <td>0</td>\n",
       "      <td>24160</td>\n",
       "      <td>211.337494</td>\n",
       "      <td>B5</td>\n",
       "      <td>Southampton</td>\n",
       "      <td>2</td>\n",
       "      <td>NaN</td>\n",
       "      <td>St Louis, MO</td>\n",
       "    </tr>\n",
       "    <tr>\n",
       "      <th>1</th>\n",
       "      <td>2</td>\n",
       "      <td>1st</td>\n",
       "      <td>1</td>\n",
       "      <td>Allison, Master. Hudson Trevor</td>\n",
       "      <td>male</td>\n",
       "      <td>0.9167</td>\n",
       "      <td>1</td>\n",
       "      <td>2</td>\n",
       "      <td>113781</td>\n",
       "      <td>151.550003</td>\n",
       "      <td>C22 C26</td>\n",
       "      <td>Southampton</td>\n",
       "      <td>11</td>\n",
       "      <td>NaN</td>\n",
       "      <td>Montreal, PQ / Chesterville, ON</td>\n",
       "    </tr>\n",
       "    <tr>\n",
       "      <th>2</th>\n",
       "      <td>3</td>\n",
       "      <td>1st</td>\n",
       "      <td>0</td>\n",
       "      <td>Allison, Miss. Helen Loraine</td>\n",
       "      <td>female</td>\n",
       "      <td>2.0000</td>\n",
       "      <td>1</td>\n",
       "      <td>2</td>\n",
       "      <td>113781</td>\n",
       "      <td>151.550003</td>\n",
       "      <td>C22 C26</td>\n",
       "      <td>Southampton</td>\n",
       "      <td>NaN</td>\n",
       "      <td>NaN</td>\n",
       "      <td>Montreal, PQ / Chesterville, ON</td>\n",
       "    </tr>\n",
       "    <tr>\n",
       "      <th>3</th>\n",
       "      <td>4</td>\n",
       "      <td>1st</td>\n",
       "      <td>0</td>\n",
       "      <td>Allison, Mr. Hudson Joshua Crei</td>\n",
       "      <td>male</td>\n",
       "      <td>30.0000</td>\n",
       "      <td>1</td>\n",
       "      <td>2</td>\n",
       "      <td>113781</td>\n",
       "      <td>151.550003</td>\n",
       "      <td>C22 C26</td>\n",
       "      <td>Southampton</td>\n",
       "      <td>NaN</td>\n",
       "      <td>135.0</td>\n",
       "      <td>Montreal, PQ / Chesterville, ON</td>\n",
       "    </tr>\n",
       "    <tr>\n",
       "      <th>4</th>\n",
       "      <td>5</td>\n",
       "      <td>1st</td>\n",
       "      <td>0</td>\n",
       "      <td>Allison, Mrs. Hudson J C (Bessi</td>\n",
       "      <td>female</td>\n",
       "      <td>25.0000</td>\n",
       "      <td>1</td>\n",
       "      <td>2</td>\n",
       "      <td>113781</td>\n",
       "      <td>151.550003</td>\n",
       "      <td>C22 C26</td>\n",
       "      <td>Southampton</td>\n",
       "      <td>NaN</td>\n",
       "      <td>NaN</td>\n",
       "      <td>Montreal, PQ / Chesterville, ON</td>\n",
       "    </tr>\n",
       "  </tbody>\n",
       "</table>\n",
       "</div>"
      ],
      "text/plain": [
       "   Unnamed: 0 pclass  survived                             name     sex  \\\n",
       "0           1    1st         1    Allen, Miss. Elisabeth Walton  female   \n",
       "1           2    1st         1   Allison, Master. Hudson Trevor    male   \n",
       "2           3    1st         0     Allison, Miss. Helen Loraine  female   \n",
       "3           4    1st         0  Allison, Mr. Hudson Joshua Crei    male   \n",
       "4           5    1st         0  Allison, Mrs. Hudson J C (Bessi  female   \n",
       "\n",
       "       age  sibsp  parch  ticket        fare    cabin     embarked boat  \\\n",
       "0  29.0000      0      0   24160  211.337494       B5  Southampton    2   \n",
       "1   0.9167      1      2  113781  151.550003  C22 C26  Southampton   11   \n",
       "2   2.0000      1      2  113781  151.550003  C22 C26  Southampton  NaN   \n",
       "3  30.0000      1      2  113781  151.550003  C22 C26  Southampton  NaN   \n",
       "4  25.0000      1      2  113781  151.550003  C22 C26  Southampton  NaN   \n",
       "\n",
       "    body                        home.dest  \n",
       "0    NaN                     St Louis, MO  \n",
       "1    NaN  Montreal, PQ / Chesterville, ON  \n",
       "2    NaN  Montreal, PQ / Chesterville, ON  \n",
       "3  135.0  Montreal, PQ / Chesterville, ON  \n",
       "4    NaN  Montreal, PQ / Chesterville, ON  "
      ]
     },
     "execution_count": 13,
     "metadata": {},
     "output_type": "execute_result"
    }
   ],
   "source": [
    "titanic = pd.read_csv(\"Titanic.csv\")\n",
    "titanic.head()"
   ]
  },
  {
   "cell_type": "code",
   "execution_count": 14,
   "id": "9a072eb3",
   "metadata": {},
   "outputs": [],
   "source": [
    "titanic['survived'] = titanic['survived'].replace({1: 'yes', 0: 'no'})\n",
    "# Select numeric columns for which you want to calculate and impute the mean\n",
    "numeric_columns = [\"age\", \"fare\"]\n",
    "\n",
    "# Calculate the mean for selected numeric columns\n",
    "mean_values = titanic[numeric_columns].mean()\n",
    "\n",
    "titanic[numeric_columns] = titanic[numeric_columns].fillna(mean_values)\n",
    "\n",
    "# Select non-numeric/categorical columns for which you want to fill missing values\n",
    "categorical_columns = [\"name\", \"sex\", \"cabin\", \"embarked\", \"boat\", \"body\", \"home.dest\"]\n",
    "\n",
    "# Fill missing values in categorical columns with the mode\n",
    "for column in categorical_columns:\n",
    "    mode_value = titanic[column].mode()[0]  # Calculate the mode\n",
    "    titanic[column] = titanic[column].fillna(mode_value)\n",
    "    \n",
    "titanic['sex'] = titanic['sex'].map( {'female': 0, 'male': 1} ).astype(int)\n",
    "titanic['pclass'] = titanic['pclass'].map( {'1st': 1, '2nd': 2, '3rd': 3} ).astype(int)"
   ]
  },
  {
   "cell_type": "code",
   "execution_count": 15,
   "id": "e3768861",
   "metadata": {},
   "outputs": [],
   "source": [
    "# Split the entire dataset into training and testing sets (80% training, 20% testing)\n",
    "train_data, test_data = train_test_split(titanic, test_size=0.2, random_state=42)"
   ]
  },
  {
   "cell_type": "markdown",
   "id": "f6f3a637",
   "metadata": {},
   "source": [
    "# Steps 2 and 3\n",
    "\n",
    "In steps 2 and 3, I am training the MLPClassifier with 'pclass', 'sex', 'age', and 'sibsp' as independent variables, while 'survived' serves as the dependent variable. The goal is to evaluate the classifier's performance in terms of out-of-sample accuracy for both survivors and fatalities. This assessment is conducted for two distinct neural network architectures.\n",
    "\n",
    "In the development of the first neural network classifier, I chose an architecture featuring two hidden layers, each populated with five neurons. This configuration was implemented using the MLPClassifier from scikit-learn, with key parameters such as the logistic activation function and the Adam solver for optimization. The regularization term, alpha, was set to 0.003 to mitigate overfitting, and a momentum of 0.9 was introduced. The initial learning rate, was configured at 0.01, reflecting a balance between convergence speed and stability. The maximum iteration limit was set to 5000 and a random state of 42 was specified.\n",
    "\n",
    "Increasing the learning rate has a noticeable effect on the overall testing set accuracy. Specifically, when the initial learning rate is set to 0.005, the out-of-sample fatalities predicted hover around 89%. However, when the learning rate is increased to 0.01, the percent of correctly predicted fatalities jumps to around 96%. This suggests that a higher learning rate contributes to improved predictive accuracy, especially concerning fatal outcomes. Further increasing the learning rate seemed to decrease overall accuracy with respect to both training data and testing data, suggesting some underfitting due to potentially overshooting the minimum because of excessively large steps taken during optimization. When the learning rate was increased to 0.09 training data accuracy hovered around 76% and the testing data accuracy hovered around 76%. However, the out-of-sample accuracy for survivors increased from around 60% to around 77% and the out-of-sample accuracy for the fatalities decreased from around 90% to around 75%.\n",
    "\n",
    "Decreasing the alpha parameter appears to be associated with a reduction in overfitting. Increasing the alpha seems to associated with an increase in overfitting because when alpha is increased, the strength of regularization is increased. Overfitting is decreased through constraint of weight size resulting in a decision boundary with less curvature. For instance, with an alpha of 0.003, the training data accuracy is approximately 82%, while the testing data accuracy is around 77%. In contrast, setting the alpha to 0.01 results in a training data accuracy of 82% but a lower testing data accuracy of 75%. The wider gap between training and testing accuracy for the higher alpha indicates increased overfitting. However, beyond an alpha of 0.003, there is no significant improvement in testing data accuracy, suggesting that an alpha in this range helps mitigate overfitting without compromising predictive performance.\n",
    "\n",
    "Tuning the momentum parameter does not appear to have a discernible impact on model performance. The testing accuracy and overfitting remain relatively consistent across different momentum values. This suggests that the choice of momentum within the specified range may not significantly alter the model's predictive capabilities in this context. After final tuning, the out-of-sample accuracy for survivors hovered around 60% and the out-of-sample accuracy for fatalities hovered around 90%. "
   ]
  },
  {
   "cell_type": "code",
   "execution_count": 16,
   "id": "a98fa38d",
   "metadata": {},
   "outputs": [],
   "source": [
    "#split dataset in features and target variable\n",
    "feature_cols = ['pclass', 'sex', 'age', 'sibsp']\n",
    "X_train = train_data[feature_cols] # Features\n",
    "y_train = train_data.survived # Target variable"
   ]
  },
  {
   "cell_type": "code",
   "execution_count": 17,
   "id": "3292c294",
   "metadata": {},
   "outputs": [
    {
     "name": "stdout",
     "output_type": "stream",
     "text": [
      "Training dataset accuracy for neural network with 5 neurons in first hidden layer and 5 neurons in the second hidden layer: 82.33%\n"
     ]
    }
   ],
   "source": [
    "# Define the first neural network structure\n",
    "nn_structure_1 = (5, 5)  # 5 neurons in the first hidden layer, 5 neurons in the second hidden layer\n",
    "\n",
    "# Create an MLP Classifier\n",
    "clf_1 = MLPClassifier(hidden_layer_sizes=nn_structure_1, activation='logistic', momentum=0.9, solver='adam', alpha=0.003, learning_rate_init=0.01, max_iter=5000, random_state=42)\n",
    "\n",
    "# Fit the model to the training data\n",
    "clf_1.fit(X_train, y_train)\n",
    "\n",
    "y_train_pred_1 = clf_1.predict(X_train)\n",
    "train_accuracy_1 = accuracy_score(y_train, y_train_pred_1)\n",
    "print(f\"Training dataset accuracy for neural network with 5 neurons in first hidden layer and 5 neurons in the second hidden layer: {train_accuracy_1 * 100:.2f}%\")"
   ]
  },
  {
   "cell_type": "code",
   "execution_count": 18,
   "id": "ea02ebd4",
   "metadata": {
    "scrolled": true
   },
   "outputs": [
    {
     "name": "stdout",
     "output_type": "stream",
     "text": [
      "Testing dataset accuracy for neural network with 5 neurons in first hidden layer and 5 neurons in the second hidden layer: 77.10%\n",
      "Out-of-sample survivors accuracy for neural network with 5 neurons in first hidden layer and 5 neurons in the second hidden layer: 60.17%\n",
      "Out-of-sample fatalities accuracy for neural network with with 5 neurons in first hidden layer and 5 neurons in the second hidden layer: 90.97%\n"
     ]
    }
   ],
   "source": [
    "X_test = test_data[feature_cols]\n",
    "y_test = test_data.survived\n",
    "y_test_pred_1 = clf_1.predict(X_test)\n",
    "\n",
    "test_accuracy_1 = accuracy_score(y_test, y_test_pred_1)\n",
    "print(f\"Testing dataset accuracy for neural network with 5 neurons in first hidden layer and 5 neurons in the second hidden layer: {test_accuracy_1 * 100:.2f}%\")\n",
    "\n",
    "# Calculate the accuracy for survivors and fatalities\n",
    "num_survivors = sum(y_test == 'yes')\n",
    "num_fatalities = sum(y_test == 'no')\n",
    "\n",
    "correct_survivors_1 = sum((y_test == 'yes') & (y_test_pred_1 == 'yes'))\n",
    "correct_fatalities_1 = sum((y_test == 'no') & (y_test_pred_1 == 'no'))\n",
    "\n",
    "accuracy_survivors_1 = correct_survivors_1 / num_survivors\n",
    "accuracy_fatalities_1 = correct_fatalities_1 / num_fatalities\n",
    "\n",
    "print(f\"Out-of-sample survivors accuracy for neural network with 5 neurons in first hidden layer and 5 neurons in the second hidden layer: {accuracy_survivors_1 * 100:.2f}%\")\n",
    "print(f\"Out-of-sample fatalities accuracy for neural network with with 5 neurons in first hidden layer and 5 neurons in the second hidden layer: {accuracy_fatalities_1 * 100:.2f}%\")"
   ]
  },
  {
   "cell_type": "markdown",
   "id": "ef3b3374",
   "metadata": {},
   "source": [
    "In designing the second neural network, I initially tried increasing the neuron count to 60 in each hidden layer showed a notable improvement in out-of-sample accuracy for fatalities, reaching approximately 98% correct predictions. However, it led to a decline in correctly predicted survivors, dropping to around 47%. This adjustment also resulted in a decrease in overall accuracy, with training data accuracy hovering at 81% and test data accuracy at 76%. \n",
    "\n",
    "To optimize overall accuracy, below I designed a neural network with 125 neurons in the first hidden layer and 100 neurons in the second hidden layer. A careful selection of hyperparameters, including an alpha parameter of 0.001 and a learning rate of 0.01, yielded the best results. This configuration achieved an overall training data accuracy of about 81% and a testing data accuracy of around 78%. Out-of-sample survivor accuracy reached approximately 68%, while out-of-sample fatality accuracy was around 87%.\n",
    "\n",
    "Fine-tuning the alpha parameter further showed that decreasing it resulted in diminished out-of-sample and testing accuracy, while increasing it led to a drop in overall testing data accuracy to approximately 75%. Specifically, a lower alpha caused out-of-sample survivor accuracy to decrease to 48%, while out-of-sample fatality accuracy increased to 97%. A learning rate of 0.01 proved optimal, as higher rates, such as 0.05, significantly decreased accuracy and increased overfitting (64% training data accuracy, 55% testing data accuracy). Conversely, a learning rate below 0.01 resulted in decreased accuracy, with an overall testing accuracy of only 76%.\n",
    "\n",
    "In summary, as the number of neurons increased, overall testing data accuracy improved, accompanied by a decrease in out-of-sample fatality accuracy and an increase in out-of-sample survivor accuracy. However, achieving this balance required a careful adjustment of the alpha parameter."
   ]
  },
  {
   "cell_type": "code",
   "execution_count": 19,
   "id": "edb16c2c",
   "metadata": {},
   "outputs": [
    {
     "name": "stdout",
     "output_type": "stream",
     "text": [
      "Training dataset accuracy for neural network with 125 neurons in first hidden layer and 100 neurons in the second hidden layer: 81.38%\n"
     ]
    }
   ],
   "source": [
    "# Define the second neural network structure\n",
    "nn_structure_2 = (125, 100)  # 125 neurons in the first hidden layer, 120 neurons in the second hidden layer\n",
    "\n",
    "# Create an MLP Classifier\n",
    "clf_2 = MLPClassifier(hidden_layer_sizes=nn_structure_2, activation='logistic', solver='adam', momentum=0.9, alpha=0.001, learning_rate_init=0.01, max_iter=5000, random_state=42)\n",
    "\n",
    "# Fit the model to the training data\n",
    "clf_2.fit(X_train, y_train)\n",
    "\n",
    "y_train_pred_2 = clf_2.predict(X_train)\n",
    "train_accuracy_2 = accuracy_score(y_train, y_train_pred_2)\n",
    "print(f\"Training dataset accuracy for neural network with 125 neurons in first hidden layer and 100 neurons in the second hidden layer: {train_accuracy_2 * 100:.2f}%\")"
   ]
  },
  {
   "cell_type": "code",
   "execution_count": 20,
   "id": "3576ae0a",
   "metadata": {},
   "outputs": [
    {
     "name": "stdout",
     "output_type": "stream",
     "text": [
      "Testing dataset accuracy for neural network with 125 neurons in first hidden layer and 100 neurons in the second hidden layer: 78.24%\n",
      "Out-of-sample survivor accuracy for neural network with 125 neurons in first hidden layer and 100 neurons in the second hidden layer: 67.80%\n",
      "Out-of-sample fatalities accuracy for neural network with 125 neurons in first hidden layer and 100 neurons in the second hidden layer: 86.81%\n"
     ]
    }
   ],
   "source": [
    "X_test = test_data[feature_cols]\n",
    "y_test = test_data.survived\n",
    "y_test_pred_cli_2 = clf_2.predict(X_test)\n",
    "\n",
    "test_accuracy_2 = accuracy_score(y_test, y_test_pred_cli_2)\n",
    "print(f\"Testing dataset accuracy for neural network with 125 neurons in first hidden layer and 100 neurons in the second hidden layer: {test_accuracy_2 * 100:.2f}%\")\n",
    "\n",
    "# Calculate the accuracy for survivors and fatalities\n",
    "num_survivors = sum(y_test == 'yes')\n",
    "num_fatalities = sum(y_test == 'no')\n",
    "\n",
    "correct_survivors_2 = sum((y_test == 'yes') & (y_test_pred_cli_2 == 'yes'))\n",
    "correct_fatalities_2 = sum((y_test == 'no') & (y_test_pred_cli_2 == 'no'))\n",
    "\n",
    "accuracy_survivors_2 = correct_survivors_2 / num_survivors\n",
    "accuracy_fatalities_2 = correct_fatalities_2 / num_fatalities\n",
    "\n",
    "print(f\"Out-of-sample survivor accuracy for neural network with 125 neurons in first hidden layer and 100 neurons in the second hidden layer: {accuracy_survivors_2 * 100:.2f}%\")\n",
    "print(f\"Out-of-sample fatalities accuracy for neural network with 125 neurons in first hidden layer and 100 neurons in the second hidden layer: {accuracy_fatalities_2 * 100:.2f}%\")"
   ]
  },
  {
   "cell_type": "markdown",
   "id": "425e30c8",
   "metadata": {},
   "source": [
    "# Step 4"
   ]
  },
  {
   "cell_type": "code",
   "execution_count": 21,
   "id": "9fd23496",
   "metadata": {},
   "outputs": [
    {
     "name": "stdout",
     "output_type": "stream",
     "text": [
      "Overall training dataset accuracy for random forest: 83.95%\n",
      "Overall testing dataset accuracy for random forest: 76.34%\n",
      "Out-of-sample survivors survivor accuracy for Random Forest: 59.32%\n",
      "Out-of-sample fatalities accuracy for Random Forest: 90.28%\n"
     ]
    }
   ],
   "source": [
    "# Define the Random Forest Classifier with n_estimators = 50 and max_leaf_nodes from the pruned tree\n",
    "rf_clf = RandomForestClassifier(n_estimators=50, max_leaf_nodes=14, n_jobs=-1)\n",
    "\n",
    "# Fit the Random Forest model on the training data\n",
    "rf_clf.fit(X_train, y_train)\n",
    "\n",
    "rf_y_pred_train = rf_clf.predict(X_train)\n",
    "\n",
    "train_accuracy_rf = accuracy_score(y_train, rf_y_pred_train)\n",
    "\n",
    "# Use the trained model to make predictions on the test set\n",
    "rf_y_pred_test = rf_clf.predict(X_test)\n",
    "\n",
    "test_accuracy_rf = accuracy_score(y_test, rf_y_pred_test)\n",
    "\n",
    "print(f\"Overall training dataset accuracy for random forest: {train_accuracy_rf * 100:.2f}%\")\n",
    "print(f\"Overall testing dataset accuracy for random forest: {test_accuracy_rf * 100:.2f}%\")\n",
    "\n",
    "# Calculate the accuracy for survivors and fatalities\n",
    "rf_correct_survivors = sum((y_test == 'yes') & (rf_y_pred_test == 'yes'))\n",
    "rf_correct_fatalities = sum((y_test == 'no') & (rf_y_pred_test == 'no'))\n",
    "\n",
    "rf_accuracy_survivors = rf_correct_survivors / num_survivors\n",
    "rf_accuracy_fatalities = rf_correct_fatalities / num_fatalities\n",
    "\n",
    "print(f\"Out-of-sample survivors survivor accuracy for Random Forest: {rf_accuracy_survivors * 100:.2f}%\")\n",
    "print(f\"Out-of-sample fatalities accuracy for Random Forest: {rf_accuracy_fatalities * 100:.2f}%\")"
   ]
  },
  {
   "cell_type": "code",
   "execution_count": 22,
   "id": "b432921e",
   "metadata": {
    "scrolled": true
   },
   "outputs": [
    {
     "data": {
      "image/png": "[encoded data removed]",
      "text/plain": [
       "<Figure size 1200x800 with 1 Axes>"
      ]
     },
     "metadata": {},
     "output_type": "display_data"
    }
   ],
   "source": [
    "barWidth = 0.25\n",
    "fig = plt.subplots(figsize =(12, 8)) \n",
    " \n",
    "survivors = [accuracy_survivors_1 * 100, accuracy_survivors_2 * 100, rf_accuracy_survivors * 100] \n",
    "fatalities = [accuracy_fatalities_1 * 100, accuracy_fatalities_2 * 100, rf_accuracy_fatalities * 100]\n",
    " \n",
    "bar1 = np.arange(len(survivors)) \n",
    "bar2 = [x + barWidth for x in bar1] \n",
    "bar3 = [x + barWidth for x in bar2] \n",
    " \n",
    "plt.bar(bar1, survivors, color ='b', width = barWidth, \n",
    "        edgecolor ='grey', label ='Survivors') \n",
    "plt.bar(bar2, fatalities, color ='r', width = barWidth, \n",
    "        edgecolor ='grey', label ='Fatalities')\n",
    " \n",
    "plt.xlabel('Classifier/Algorithm', fontweight ='bold', fontsize = 15) \n",
    "plt.ylabel('Out-of-sample Accuracy', fontweight ='bold', fontsize = 15) \n",
    "plt.xticks([r + barWidth for r in range(len(survivors))], \n",
    "        ['Neural Network with 5 by 5 hidden layers', 'Neural Network with 125 by 100 hidden layers', 'Random Forest'])\n",
    " \n",
    "plt.legend()\n",
    "plt.show() "
   ]
  },
  {
   "cell_type": "markdown",
   "id": "40f243b8",
   "metadata": {},
   "source": [
    "The second neural network, characterized by a more complex architecture with 125 neurons in the first hidden layer and 100 neurons in the second hidden layer, demonstrated the highest overall testing data accuracy at ~78% and the least amount of overfitting. This improvement can be attributed to the network's increased capacity to capture intricate patterns and relationships within the data. The larger number of neurons allows the model to learn more complex representations, potentially enhancing its ability to generalize to unseen data.\n",
    "\n",
    "On the other hand, the first neural network, with only 5 neurons in each hidden layer, achieved a slightly lower but still competitive testing data accuracy at ~77%. The choice of hyperparameters, including a learning rate of 0.01, alpha of 0.003, and momentum of 0.9, played a role in fine-tuning the model's performance. The regularization term alpha likely helped mitigate overfitting, contributing to a balance between capturing essential patterns and avoiding excessive complexity.\n",
    "\n",
    "The random forest, while competitive, displayed a slightly lower overall testing data accuracy at ~76%. This model's tendency to overfit is evident from the notable discrepancy between its training data accuracy ~84% and testing data accuracy. The random forest's ensemble nature which allows it to aggregate predictions from multiple decision trees is a strength. However, the risk of overfitting increases if there are sparse features or if there are multiple strongly correlated variables in the data, which may very be the case with the Titanic dataset. Individual trees may become limited in their generalizability to new samples in these cases.\n",
    "\n",
    "In terms of predicting survivors and fatalities, the second neural network outperformed both the first neural network and the random forest for out-of-sample survivors accuracy. This suggests that the increased model complexity and capacity of the second neural network allowed it to better capture the diverse patterns associated with survivor predictions.\n",
    "\n",
    "However, when it comes to predicting fatalities specifically, both the first neural network and the random forest demonstrated high accuracy, with each achieving around 90%. The second neural network, while achieving a slightly lower accuracy for fatalities at ~87%, still performed competitively. \n",
    "\n",
    "In summary, the second neural network's superior performance in overall testing data accuracy can be attributed to its more complex architecture, featuring a higher number of neurons and careful hyperparameter tuning. The first neural network, with a simpler structure, proved effective as well. The random forest, despite its competitive performance, showed signs of overfitting."
   ]
  }
 ],
 "metadata": {
  "kernelspec": {
   "display_name": "Python [conda env:root] *",
   "language": "python",
   "name": "conda-root-py"
  },
  "language_info": {
   "codemirror_mode": {
    "name": "ipython",
    "version": 3
   },
   "file_extension": ".py",
   "mimetype": "text/x-python",
   "name": "python",
   "nbconvert_exporter": "python",
   "pygments_lexer": "ipython3",
   "version": "3.11.4"
  }
 },
 "nbformat": 4,
 "nbformat_minor": 5
}
